{
 "cells": [
  {
   "cell_type": "code",
   "id": "initial_id",
   "metadata": {
    "collapsed": true,
    "ExecuteTime": {
     "end_time": "2025-07-16T12:56:18.622639Z",
     "start_time": "2025-07-16T12:56:18.619794Z"
    }
   },
   "source": [
    "import matplotlib.pyplot as plt\n",
    "import numpy as np\n",
    "import matplotlib.image as mpimg\n",
    "import cv2\n",
    "from unified_planning.shortcuts import *"
   ],
   "outputs": [],
   "execution_count": 5
  },
  {
   "metadata": {
    "ExecuteTime": {
     "end_time": "2025-07-16T12:56:20.215131Z",
     "start_time": "2025-07-16T12:56:20.211954Z"
    }
   },
   "cell_type": "code",
   "source": [
    "#Grid Sizes\n",
    "x_size = 5\n",
    "y_size = 5"
   ],
   "id": "232eb401576f02d1",
   "outputs": [],
   "execution_count": 6
  },
  {
   "metadata": {
    "ExecuteTime": {
     "end_time": "2025-07-16T12:57:25.131822Z",
     "start_time": "2025-07-16T12:57:24.761724Z"
    }
   },
   "cell_type": "code",
   "source": [
    "#Open Image and Split into Grid\n",
    "\n",
    "im = cv2.imread(\"legoscanbetter.jpg\")\n",
    "\n",
    "height,width = im.shape[:2]\n",
    "\n",
    "grid_height = round(height / 5)\n",
    "grid_width = round(width / 5)\n",
    "\n",
    "for y in range(y_size):\n",
    "    for x in range(x_size):\n",
    "        y_start = y * grid_height\n",
    "        y_end = y_start + grid_height\n",
    "        x_start = x * grid_width\n",
    "        x_end = x_start + grid_width\n",
    "        square = im[y_start:y_end, x_start:x_end]\n",
    "        cv2.imwrite(f\"grid_{y}_{x}.png\", square)\n",
    "\n"
   ],
   "id": "d15e17d58d5d12c1",
   "outputs": [],
   "execution_count": 8
  }
 ],
 "metadata": {
  "kernelspec": {
   "display_name": "Python 3",
   "language": "python",
   "name": "python3"
  },
  "language_info": {
   "codemirror_mode": {
    "name": "ipython",
    "version": 2
   },
   "file_extension": ".py",
   "mimetype": "text/x-python",
   "name": "python",
   "nbconvert_exporter": "python",
   "pygments_lexer": "ipython2",
   "version": "2.7.6"
  }
 },
 "nbformat": 4,
 "nbformat_minor": 5
}
