{
 "cells": [
  {
   "cell_type": "code",
   "id": "initial_id",
   "metadata": {
    "collapsed": true,
    "ExecuteTime": {
     "end_time": "2025-06-10T13:19:49.966200Z",
     "start_time": "2025-06-10T13:19:49.764603Z"
    }
   },
   "source": [
    "import requests\n",
    "import ollama\n",
    "import base64"
   ],
   "outputs": [],
   "execution_count": 2
  },
  {
   "metadata": {
    "ExecuteTime": {
     "end_time": "2025-06-10T13:19:50.553872Z",
     "start_time": "2025-06-10T13:19:50.550186Z"
    }
   },
   "cell_type": "code",
   "source": "# PROMPT = \"You will receive an image input, you must give a unique identifier to each unique object you see. Each object must also have a three word label. You then must PDDL relationships for each object, the following relationships you assign. over(obj1,obj2) if objet one is over objecct two. touching(obj1,obj2) if object 1 is touching object2. left(obj1,obj2) if object 1 is to the left of object 2. behind(obj1,obj2) if object 1 is behing object 2. Structure your response as [Identifier,label,relationships.\"",
   "id": "3aecc0a1b83652d7",
   "outputs": [],
   "execution_count": 3
  },
  {
   "metadata": {
    "ExecuteTime": {
     "end_time": "2025-06-10T13:19:51.004338Z",
     "start_time": "2025-06-10T13:19:51.002253Z"
    }
   },
   "cell_type": "code",
   "source": "PROMPT = \"If the circle in the middle is a robot at the point 0,0 can you give me coordinates for each brick as well as a unique identifier for each?\"",
   "id": "a71a230939834edc",
   "outputs": [],
   "execution_count": 4
  },
  {
   "metadata": {
    "ExecuteTime": {
     "end_time": "2025-06-10T13:19:51.765045Z",
     "start_time": "2025-06-10T13:19:51.761600Z"
    }
   },
   "cell_type": "code",
   "source": [
    "def encode_image(root):\n",
    "    with open(root, \"rb\") as f:\n",
    "        return base64.b64encode(f.read()).decode(\"utf-8\")\n"
   ],
   "id": "6ac14633aa3316e1",
   "outputs": [],
   "execution_count": 5
  },
  {
   "metadata": {
    "ExecuteTime": {
     "end_time": "2025-06-10T13:19:52.703830Z",
     "start_time": "2025-06-10T13:19:52.700258Z"
    }
   },
   "cell_type": "code",
   "source": [
    "def analyse_image(root):\n",
    "    image_base64 = encode_image(root)\n",
    "\n",
    "    response = requests.post('http://localhost:11434/api/generate', json={\n",
    "        \"model\": 'llava',\n",
    "        \"prompt\": PROMPT,\n",
    "        \"images\": [image_base64],\n",
    "        \"stream\": False\n",
    "    })\n",
    "\n",
    "    result = response.json()\n",
    "    return result.get(\"response\", \"\")"
   ],
   "id": "a90d189576f10345",
   "outputs": [],
   "execution_count": 6
  },
  {
   "metadata": {
    "ExecuteTime": {
     "end_time": "2025-06-10T13:20:27.712199Z",
     "start_time": "2025-06-10T13:19:53.435643Z"
    }
   },
   "cell_type": "code",
   "source": "analyse_image(\"legoscatter.png\")",
   "id": "886f91a73cae913e",
   "outputs": [
    {
     "data": {
      "text/plain": [
       "' In this image, there are seven LEGO bricks positioned on a white surface. The central brick forms a reference point with coordinates (0,0). From this perspective, I will describe each brick in clockwise order and provide you with a unique identifier.\\n\\n1. **Brick 1**: This is the first brick from the robot\\'s perspective and it appears to be directly above the robot. It is not fully visible due to the angle of the photo. Identifier: \"A\"\\n\\n2. **Brick 2**: The second brick is slightly to the right of the first, extending outwards from the robot\\'s perspective. Identifier: \"B\"\\n\\n3. **Brick 3**: This brick is partially visible and appears to be directly behind the robot. It has a purple hue. Identifier: \"C\"\\n\\n4. **Brick 4**: The fourth brick, with its white top, is positioned on the right side of the image, just ahead of the brick with a purple hue (Brick 3). Identifier: \"D\"\\n\\n5. **Brick 5**: This brick has a red base and is located towards the lower right corner of the image. It\\'s partially visible from this perspective. Identifier: \"E\"\\n\\n6. **Brick 6**: The sixth brick is mostly obscured by the bricks in front of it. It seems to be located in the upper right corner, just behind Brick 4. Identifier: \"F\"\\n\\n7. **Brick 7**: The seventh and final brick appears to be partially visible towards the lower left corner of the image. Its color is not fully distinguishable due to the angle and perspective. Identifier: \"G\"\\n\\nPlease note that these identifiers are arbitrary and provided for convenience in this context. From the robot\\'s perspective, Brick 1 would be directly above it, while Brick 2 would be slightly to its right, with each subsequent brick moving clockwise around the central robot figure. '"
      ]
     },
     "execution_count": 7,
     "metadata": {},
     "output_type": "execute_result"
    }
   ],
   "execution_count": 7
  },
  {
   "metadata": {
    "ExecuteTime": {
     "end_time": "2025-06-07T11:57:41.657543Z",
     "start_time": "2025-06-07T11:57:34.643250Z"
    }
   },
   "cell_type": "code",
   "source": [
    "# Use the generate function for a one-off prompt\n",
    "result = ollama.generate(model='llava', prompt=PROMPT)\n",
    "print(result['response'])"
   ],
   "id": "713cfbef5f835321",
   "outputs": [
    {
     "name": "stdout",
     "output_type": "stream",
     "text": [
      " I understand the task. Please provide me with the image input. \n"
     ]
    }
   ],
   "execution_count": 14
  },
  {
   "metadata": {},
   "cell_type": "code",
   "outputs": [],
   "execution_count": null,
   "source": "",
   "id": "1833c496dec8aff7"
  }
 ],
 "metadata": {
  "kernelspec": {
   "display_name": "Python 3",
   "language": "python",
   "name": "python3"
  },
  "language_info": {
   "codemirror_mode": {
    "name": "ipython",
    "version": 2
   },
   "file_extension": ".py",
   "mimetype": "text/x-python",
   "name": "python",
   "nbconvert_exporter": "python",
   "pygments_lexer": "ipython2",
   "version": "2.7.6"
  }
 },
 "nbformat": 4,
 "nbformat_minor": 5
}
