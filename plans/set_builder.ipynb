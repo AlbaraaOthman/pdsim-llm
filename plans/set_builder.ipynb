{
 "cells": [
  {
   "cell_type": "code",
   "id": "initial_id",
   "metadata": {
    "collapsed": true,
    "ExecuteTime": {
     "end_time": "2025-06-27T22:34:56.828721Z",
     "start_time": "2025-06-27T22:34:55.584339Z"
    }
   },
   "source": [
    "import matplotlib.pyplot as plt\n",
    "import numpy as np\n",
    "import matplotlib.image as mpimg\n",
    "# import cv2\n",
    "from unified_planning.shortcuts import *"
   ],
   "outputs": [],
   "execution_count": 1
  },
  {
   "metadata": {
    "ExecuteTime": {
     "end_time": "2025-06-27T22:34:59.684741Z",
     "start_time": "2025-06-27T22:34:59.679514Z"
    }
   },
   "cell_type": "code",
   "source": [
    "#Claude Output\n",
    "C_robot = [0,0]\n",
    "C_P1 = [-6,8]\n",
    "C_P2 = [-8,2]\n",
    "C_P3 = [-2,4]\n",
    "C_P4 = [4,6]\n",
    "C_R1 = [6,0]\n",
    "C_R2 = [-4,-7]\n",
    "C_R3 = [7,-8]\n",
    "C_G1 = [2,2]\n",
    "C_G2 = [0,-4]\n",
    "\n",
    "\n",
    "claude_x_points = [C_P1[0],C_P2[0],C_P3[0],C_P4[0],C_R1[0],C_R2[0],C_R3[0],C_G1[0],C_G2[0]]\n",
    "claude_y_points = [C_P1[1],C_P2[1],C_P3[1],C_P4[1],C_R1[1],C_R2[1],C_R3[1],C_G1[1],C_G2[1]]"
   ],
   "id": "9b644ffef261d644",
   "outputs": [],
   "execution_count": 2
  },
  {
   "metadata": {
    "ExecuteTime": {
     "end_time": "2025-06-27T22:35:08.246745Z",
     "start_time": "2025-06-27T22:35:08.242835Z"
    }
   },
   "cell_type": "code",
   "source": [
    "# Grid boxes\n",
    "# Continuing with claude!\n",
    "\n",
    "points = [C_robot,C_P1,C_P2,C_P3,C_P4,C_R1,C_R2,C_R3,C_G1,C_G2]\n",
    "\n",
    "\n",
    "def normaliser(x,oldmin,oldmax,newmin,newmax):\n",
    "    normalised = ((x - oldmin) / (oldmax - oldmin)) * (newmax - newmin) + newmin\n",
    "    return normalised\n",
    "\n",
    "final_locations = []\n",
    "for point in points:\n",
    "    x_norm = round(normaliser(point[0],-10,10,0,20))\n",
    "    y_norm = round(normaliser(point[1],-10,10,0,20))\n",
    "    final_locations.append([x_norm,y_norm])\n",
    "\n",
    "# normalized_value = ((x - old_min) / (old_max - old_min)) * (new_max - new_min) + new_min\n"
   ],
   "id": "f21de377216f87a7",
   "outputs": [],
   "execution_count": 3
  },
  {
   "metadata": {
    "ExecuteTime": {
     "end_time": "2025-06-27T22:35:16.723110Z",
     "start_time": "2025-06-27T22:35:16.381926Z"
    }
   },
   "cell_type": "code",
   "source": [
    "#Unified Planning Object Locations\n",
    "\n",
    "Location = UserType('Location')\n",
    "Bricks = UserType('Bricks')\n",
    "brick_at = unified_planning.model.Fluent('brick_at', BoolType(), l=Location)\n",
    "\n"
   ],
   "id": "4c8940ff8619aa19",
   "outputs": [],
   "execution_count": 4
  },
  {
   "metadata": {
    "ExecuteTime": {
     "end_time": "2025-06-27T22:36:57.765448Z",
     "start_time": "2025-06-27T22:36:57.761424Z"
    }
   },
   "cell_type": "code",
   "source": [
    "#Create Grid Squares\n",
    "locs = []\n",
    "for y in range(20):\n",
    "    for x in range(20):\n",
    "        loc = f'loc-{x},{y}'\n",
    "        locs.append(loc)\n",
    "locations = [unified_planning.model.Object(l,Location) for l in locs]\n"
   ],
   "id": "5b824171597396bd",
   "outputs": [],
   "execution_count": 5
  },
  {
   "metadata": {
    "ExecuteTime": {
     "end_time": "2025-06-27T23:10:16.030799Z",
     "start_time": "2025-06-27T23:10:16.026827Z"
    }
   },
   "cell_type": "code",
   "source": [
    "#Create Brick Objects\n",
    "\n",
    "seperate_bricks = ['P1','P2','P3','P4','R1','R2','R3','G1','G2']\n",
    "\n",
    "bricks = [unified_planning.model.Object(b,Bricks) for b in seperate_bricks]"
   ],
   "id": "72a551a69f21f4d3",
   "outputs": [],
   "execution_count": 66
  },
  {
   "metadata": {
    "ExecuteTime": {
     "end_time": "2025-06-27T23:10:16.187236Z",
     "start_time": "2025-06-27T23:10:16.182730Z"
    }
   },
   "cell_type": "code",
   "source": [
    "#States\n",
    "\n",
    "brick_at = unified_planning.model.Fluent('brick_at', BoolType(), brick = Bricks, loc = Location)\n",
    "on = unified_planning.model.Fluent('on', BoolType(), base_brick = Bricks, stack_brick = Bricks)\n",
    "left = unified_planning.model.Fluent('left', BoolType(), left_brick = Bricks, right_brick = Bricks)\n",
    "behind = unified_planning.model.Fluent('behind', BoolType(), behind_brick = Bricks, forward_brick = Bricks)\n",
    "clear = unified_planning.model.Fluent('clear',BoolType(), brick = Bricks)"
   ],
   "id": "d63a7e1f2c5b3672",
   "outputs": [],
   "execution_count": 67
  },
  {
   "metadata": {
    "ExecuteTime": {
     "end_time": "2025-06-27T23:13:48.739506Z",
     "start_time": "2025-06-27T23:13:48.736875Z"
    }
   },
   "cell_type": "code",
   "source": [
    "#Setting up Problem\n",
    "\n",
    "problem = unified_planning.model.Problem('LegoScatter')"
   ],
   "id": "bd5cf44edd19d80c",
   "outputs": [],
   "execution_count": 92
  },
  {
   "metadata": {
    "ExecuteTime": {
     "end_time": "2025-06-27T23:13:48.882394Z",
     "start_time": "2025-06-27T23:13:48.877994Z"
    }
   },
   "cell_type": "code",
   "source": [
    "problem.add_fluent(brick_at, default_initial_value=False)\n",
    "problem.add_fluent(on, default_initial_value=False)\n",
    "problem.add_fluent(left, default_initial_value=False)\n",
    "problem.add_fluent(behind, default_initial_value=False)\n",
    "problem.add_fluent(clear, default_initial_value=False)"
   ],
   "id": "614a8df20078c4d8",
   "outputs": [
    {
     "data": {
      "text/plain": [
       "bool clear[brick=Bricks]"
      ]
     },
     "execution_count": 93,
     "metadata": {},
     "output_type": "execute_result"
    }
   ],
   "execution_count": 93
  },
  {
   "metadata": {
    "ExecuteTime": {
     "end_time": "2025-06-27T23:13:49.051390Z",
     "start_time": "2025-06-27T23:13:49.046989Z"
    }
   },
   "cell_type": "code",
   "source": [
    "#Move from one grid location to another grid square\n",
    "\n",
    "move = unified_planning.model.InstantaneousAction('move',brick = Bricks, l_from=Location, l_to=Location)\n",
    "curr_brick = move.parameter('brick')\n",
    "l_from = move.parameter('l_from')\n",
    "l_to = move.parameter('l_to')\n",
    "move.add_precondition(brick_at(curr_brick, l_from))\n",
    "move.add_precondition(clear(curr_brick))\n",
    "move.add_effect(brick_at(curr_brick, l_from), False)\n",
    "move.add_effect(brick_at(curr_brick, l_to), True)\n",
    "problem.add_action(move)"
   ],
   "id": "48ac85e2dc5d8164",
   "outputs": [],
   "execution_count": 94
  },
  {
   "metadata": {
    "ExecuteTime": {
     "end_time": "2025-06-27T23:13:49.175654Z",
     "start_time": "2025-06-27T23:13:49.172106Z"
    }
   },
   "cell_type": "code",
   "source": [
    "#If two bricks are in the same location, stack one on top of the other\n",
    "\n",
    "move_on = unified_planning.model.InstantaneousAction('move_on',base_brick = Bricks, stack_brick = Bricks, l_curr=Location)\n",
    "base_brick = move_on.parameter('base_brick')\n",
    "l_curr = move_on.parameter('l_curr')\n",
    "stack_brick = move_on.parameter('stack_brick')\n",
    "move_on.add_precondition(brick_at(base_brick, l_curr))\n",
    "move_on.add_precondition(brick_at(stack_brick, l_curr))\n",
    "move_on.add_precondition(clear(base_brick))\n",
    "move_on.add_effect(on(stack_brick,base_brick ), True)\n",
    "move_on.add_effect(clear(base_brick),False)\n",
    "problem.add_action(move_on)"
   ],
   "id": "5717ef98e8dc25db",
   "outputs": [],
   "execution_count": 95
  },
  {
   "metadata": {
    "ExecuteTime": {
     "end_time": "2025-06-27T23:13:49.269717Z",
     "start_time": "2025-06-27T23:13:49.265718Z"
    }
   },
   "cell_type": "code",
   "source": [
    "#Reversed - take a block off the top of the tower\n",
    "\n",
    "move_off = unified_planning.model.InstantaneousAction('move_off',base_brick = Bricks, stack_brick = Bricks, l_curr=Location)\n",
    "base_brick = move_off.parameter('base_brick')\n",
    "l_curr = move_off.parameter('l_curr')\n",
    "stack_brick = move_off.parameter('stack_brick')\n",
    "move_off.add_precondition(brick_at(base_brick, l_curr))\n",
    "move_off.add_precondition(brick_at(stack_brick, l_curr))\n",
    "move_off.add_precondition(on(stack_brick,base_brick))\n",
    "move_off.add_precondition(clear(stack_brick))\n",
    "move_off.add_effect(on(stack_brick,base_brick ), False)\n",
    "move_off.add_effect(clear(base_brick),True)\n",
    "problem.add_action(move_off)"
   ],
   "id": "f043524d7372fada",
   "outputs": [],
   "execution_count": 96
  },
  {
   "metadata": {
    "ExecuteTime": {
     "end_time": "2025-06-27T23:13:49.442447Z",
     "start_time": "2025-06-27T23:13:49.438318Z"
    }
   },
   "cell_type": "code",
   "source": [
    "#Left block has a relationship of being left of another brick **they touch**\n",
    "\n",
    "move_left = unified_planning.model.InstantaneousAction('move_left',left_brick = Bricks, right_brick = Bricks, l_curr=Location)\n",
    "left_brick = move_left.parameter('left_brick')\n",
    "l_curr = move_left.parameter('l_curr')\n",
    "right_brick = move_left.parameter('right_brick')\n",
    "move_left.add_precondition(brick_at(left_brick, l_curr))\n",
    "move_left.add_precondition(brick_at(right_brick, l_curr))\n",
    "move_left.add_precondition(clear(left_brick))\n",
    "move_left.add_effect(left(left_brick,right_brick ), True)\n",
    "problem.add_action(move_left)"
   ],
   "id": "a746cc9f0d552643",
   "outputs": [],
   "execution_count": 97
  },
  {
   "metadata": {
    "ExecuteTime": {
     "end_time": "2025-06-27T23:13:49.628366Z",
     "start_time": "2025-06-27T23:13:49.624581Z"
    }
   },
   "cell_type": "code",
   "source": [
    "#Remove Left Binding\n",
    "\n",
    "remove_left = unified_planning.model.InstantaneousAction('remove_left',left_brick = Bricks, right_brick = Bricks)\n",
    "left_brick = remove_left.parameter('left_brick')\n",
    "right_brick = remove_left.parameter('right_brick')\n",
    "remove_left.add_precondition(left(left_brick,right_brick))\n",
    "remove_left.add_effect(left(left_brick,right_brick), False)\n",
    "problem.add_action(remove_left)"
   ],
   "id": "687d2507e4f01920",
   "outputs": [],
   "execution_count": 98
  },
  {
   "metadata": {
    "ExecuteTime": {
     "end_time": "2025-06-27T23:13:49.799193Z",
     "start_time": "2025-06-27T23:13:49.795172Z"
    }
   },
   "cell_type": "code",
   "source": [
    "#Block has a relationship of being behind another block **they touch**\n",
    "move_behind = unified_planning.model.InstantaneousAction('move_behind',behind_brick = Bricks, front_brick = Bricks, l_curr=Location)\n",
    "behind_brick = move_behind.parameter('behind_brick')\n",
    "l_curr = move_behind.parameter('l_curr')\n",
    "front_brick = move_behind.parameter('front_brick')\n",
    "move_behind.add_precondition(brick_at(behind_brick, l_curr))\n",
    "move_behind.add_precondition(brick_at(front_brick, l_curr))\n",
    "move_behind.add_precondition(clear(behind_brick))\n",
    "move_behind.add_effect(behind(behind_brick,front_brick ), True)\n",
    "problem.add_action(move_behind)"
   ],
   "id": "dc38ca3510793b1a",
   "outputs": [],
   "execution_count": 99
  },
  {
   "metadata": {
    "ExecuteTime": {
     "end_time": "2025-06-27T23:13:49.972078Z",
     "start_time": "2025-06-27T23:13:49.967956Z"
    }
   },
   "cell_type": "code",
   "source": [
    "#Remove Behind binding\n",
    "remove_behind = unified_planning.model.InstantaneousAction('remove_behind',behind_brick = Bricks, front_brick = Bricks)\n",
    "behind_brick = remove_behind.parameter('behind_brick')\n",
    "front_brick = remove_behind.parameter('front_brick')\n",
    "remove_behind.add_precondition(behind(behind_brick,front_brick))\n",
    "remove_behind.add_effect(behind(behind_brick,front_brick), False)\n",
    "problem.add_action(remove_behind)"
   ],
   "id": "26e898cdd871b39c",
   "outputs": [],
   "execution_count": 100
  },
  {
   "metadata": {
    "ExecuteTime": {
     "end_time": "2025-06-27T23:13:50.421990Z",
     "start_time": "2025-06-27T23:13:50.418901Z"
    }
   },
   "cell_type": "code",
   "source": [
    "#Initialise Locations\n",
    "# print(final_locations[1:])\n",
    "# print(bricks)\n",
    "for i in range(len(bricks)):\n",
    "    loc = Object(f'loc-{final_locations[i+1][0]},{final_locations[i+1][1]}',Location)\n",
    "    # print(loc)\n",
    "    problem.set_initial_value(brick_at(bricks[i],loc),True)\n",
    "    problem.set_initial_value(clear(bricks[i]), True)"
   ],
   "id": "3a6f4a030ab364ef",
   "outputs": [],
   "execution_count": 101
  },
  {
   "metadata": {
    "ExecuteTime": {
     "end_time": "2025-06-27T23:14:03.357680Z",
     "start_time": "2025-06-27T23:14:03.354415Z"
    }
   },
   "cell_type": "code",
   "source": "print(problem)",
   "id": "affdc91ae146847f",
   "outputs": [
    {
     "name": "stdout",
     "output_type": "stream",
     "text": [
      "problem name = LegoScatter\n",
      "\n",
      "types = [Bricks, Location]\n",
      "\n",
      "fluents = [\n",
      "  bool brick_at[brick=Bricks, loc=Location]\n",
      "  bool on[base_brick=Bricks, stack_brick=Bricks]\n",
      "  bool left[left_brick=Bricks, right_brick=Bricks]\n",
      "  bool behind[behind_brick=Bricks, forward_brick=Bricks]\n",
      "  bool clear[brick=Bricks]\n",
      "]\n",
      "\n",
      "actions = [\n",
      "  action move(Bricks brick, Location l_from, Location l_to) {\n",
      "    preconditions = [\n",
      "      brick_at(brick, l_from)\n",
      "      clear(brick)\n",
      "    ]\n",
      "    effects = [\n",
      "      brick_at(brick, l_from) := false\n",
      "      brick_at(brick, l_to) := true\n",
      "    ]\n",
      "  }\n",
      "  action move_on(Bricks base_brick, Bricks stack_brick, Location l_curr) {\n",
      "    preconditions = [\n",
      "      brick_at(base_brick, l_curr)\n",
      "      brick_at(stack_brick, l_curr)\n",
      "      clear(base_brick)\n",
      "    ]\n",
      "    effects = [\n",
      "      on(stack_brick, base_brick) := true\n",
      "      clear(base_brick) := false\n",
      "    ]\n",
      "  }\n",
      "  action move_off(Bricks base_brick, Bricks stack_brick, Location l_curr) {\n",
      "    preconditions = [\n",
      "      brick_at(base_brick, l_curr)\n",
      "      brick_at(stack_brick, l_curr)\n",
      "      on(stack_brick, base_brick)\n",
      "      clear(stack_brick)\n",
      "    ]\n",
      "    effects = [\n",
      "      on(stack_brick, base_brick) := false\n",
      "      clear(base_brick) := true\n",
      "    ]\n",
      "  }\n",
      "  action move_left(Bricks left_brick, Bricks right_brick, Location l_curr) {\n",
      "    preconditions = [\n",
      "      brick_at(left_brick, l_curr)\n",
      "      brick_at(right_brick, l_curr)\n",
      "      clear(left_brick)\n",
      "    ]\n",
      "    effects = [\n",
      "      left(left_brick, right_brick) := true\n",
      "    ]\n",
      "  }\n",
      "  action remove_left(Bricks left_brick, Bricks right_brick) {\n",
      "    preconditions = [\n",
      "      left(left_brick, right_brick)\n",
      "    ]\n",
      "    effects = [\n",
      "      left(left_brick, right_brick) := false\n",
      "    ]\n",
      "  }\n",
      "  action move_behind(Bricks behind_brick, Bricks front_brick, Location l_curr) {\n",
      "    preconditions = [\n",
      "      brick_at(behind_brick, l_curr)\n",
      "      brick_at(front_brick, l_curr)\n",
      "      clear(behind_brick)\n",
      "    ]\n",
      "    effects = [\n",
      "      behind(behind_brick, front_brick) := true\n",
      "    ]\n",
      "  }\n",
      "  action remove_behind(Bricks behind_brick, Bricks front_brick) {\n",
      "    preconditions = [\n",
      "      behind(behind_brick, front_brick)\n",
      "    ]\n",
      "    effects = [\n",
      "      behind(behind_brick, front_brick) := false\n",
      "    ]\n",
      "  }\n",
      "]\n",
      "\n",
      "objects = [\n",
      "  Bricks: []\n",
      "  Location: []\n",
      "]\n",
      "\n",
      "initial fluents default = [\n",
      "  bool brick_at[brick=Bricks, loc=Location] := false\n",
      "  bool on[base_brick=Bricks, stack_brick=Bricks] := false\n",
      "  bool left[left_brick=Bricks, right_brick=Bricks] := false\n",
      "  bool behind[behind_brick=Bricks, forward_brick=Bricks] := false\n",
      "  bool clear[brick=Bricks] := false\n",
      "]\n",
      "\n",
      "initial values = [\n",
      "  brick_at(P1, loc-4,18) := true\n",
      "  clear(P1) := true\n",
      "  brick_at(P2, loc-2,12) := true\n",
      "  clear(P2) := true\n",
      "  brick_at(P3, loc-8,14) := true\n",
      "  clear(P3) := true\n",
      "  brick_at(P4, loc-14,16) := true\n",
      "  clear(P4) := true\n",
      "  brick_at(R1, loc-16,10) := true\n",
      "  clear(R1) := true\n",
      "  brick_at(R2, loc-6,3) := true\n",
      "  clear(R2) := true\n",
      "  brick_at(R3, loc-17,2) := true\n",
      "  clear(R3) := true\n",
      "  brick_at(G1, loc-12,12) := true\n",
      "  clear(G1) := true\n",
      "  brick_at(G2, loc-10,6) := true\n",
      "  clear(G2) := true\n",
      "]\n",
      "\n",
      "goals = [\n",
      "]\n",
      "\n",
      "\n"
     ]
    }
   ],
   "execution_count": 102
  },
  {
   "metadata": {
    "ExecuteTime": {
     "end_time": "2025-06-27T23:11:17.011897Z",
     "start_time": "2025-06-27T23:11:17.009408Z"
    }
   },
   "cell_type": "code",
   "source": "",
   "id": "bc601634afb134fe",
   "outputs": [],
   "execution_count": null
  },
  {
   "metadata": {
    "ExecuteTime": {
     "end_time": "2025-06-27T23:10:17.949594Z",
     "start_time": "2025-06-27T23:10:17.946583Z"
    }
   },
   "cell_type": "code",
   "source": "",
   "id": "ab7c5a908fcbb15f",
   "outputs": [],
   "execution_count": null
  },
  {
   "metadata": {},
   "cell_type": "code",
   "outputs": [],
   "execution_count": null,
   "source": "",
   "id": "75bd5eeaf110c701"
  }
 ],
 "metadata": {
  "kernelspec": {
   "display_name": "Python 3",
   "language": "python",
   "name": "python3"
  },
  "language_info": {
   "codemirror_mode": {
    "name": "ipython",
    "version": 2
   },
   "file_extension": ".py",
   "mimetype": "text/x-python",
   "name": "python",
   "nbconvert_exporter": "python",
   "pygments_lexer": "ipython2",
   "version": "2.7.6"
  }
 },
 "nbformat": 4,
 "nbformat_minor": 5
}
