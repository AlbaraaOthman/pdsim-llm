{
 "cells": [
  {
   "cell_type": "code",
   "id": "initial_id",
   "metadata": {
    "collapsed": true,
    "ExecuteTime": {
     "end_time": "2025-06-27T21:57:12.179415Z",
     "start_time": "2025-06-27T21:57:10.313884Z"
    }
   },
   "source": [
    "import matplotlib.pyplot as plt\n",
    "import numpy as np\n",
    "import matplotlib.image as mpimg\n",
    "# import cv2\n",
    "from unified_planning.shortcuts import *"
   ],
   "outputs": [],
   "execution_count": 2
  },
  {
   "metadata": {
    "ExecuteTime": {
     "end_time": "2025-06-27T21:57:24.931769Z",
     "start_time": "2025-06-27T21:57:24.926236Z"
    }
   },
   "cell_type": "code",
   "source": [
    "#Claude Output\n",
    "C_robot = [0,0]\n",
    "C_P1 = [-6,8]\n",
    "C_P2 = [-8,2]\n",
    "C_P3 = [-2,4]\n",
    "C_P4 = [4,6]\n",
    "C_R1 = [6,0]\n",
    "C_R2 = [-4,-7]\n",
    "C_R3 = [7,-8]\n",
    "C_G1 = [2,2]\n",
    "C_G2 = [0,-4]\n",
    "\n",
    "\n",
    "claude_x_points = [C_P1[0],C_P2[0],C_P3[0],C_P4[0],C_R1[0],C_R2[0],C_R3[0],C_G1[0],C_G2[0]]\n",
    "claude_y_points = [C_P1[1],C_P2[1],C_P3[1],C_P4[1],C_R1[1],C_R2[1],C_R3[1],C_G1[1],C_G2[1]]"
   ],
   "id": "f1435cc5f65d1a1c",
   "outputs": [],
   "execution_count": 4
  },
  {
   "metadata": {
    "ExecuteTime": {
     "end_time": "2025-06-27T22:05:53.444927Z",
     "start_time": "2025-06-27T22:05:53.441057Z"
    }
   },
   "cell_type": "code",
   "source": [
    "# Grid boxes\n",
    "# Continuing with claude!\n",
    "\n",
    "points = [C_robot,C_P1,C_P2,C_P3,C_P4,C_R1,C_R2,C_R3,C_G1,C_G2]\n",
    "\n",
    "\n",
    "def normaliser(x,oldmin,oldmax,newmin,newmax):\n",
    "    normalised = ((x - oldmin) / (oldmax - oldmin)) * (newmax - newmin) + newmin\n",
    "    return normalised\n",
    "\n",
    "final_locations = []\n",
    "for point in points:\n",
    "    x_norm = round(normaliser(point[0],-10,10,0,20))\n",
    "    y_norm = round(normaliser(point[1],-10,10,0,20))\n",
    "    final_locations.append([x_norm,y_norm])\n",
    "\n",
    "# normalized_value = ((x - old_min) / (old_max - old_min)) * (new_max - new_min) + new_min\n"
   ],
   "id": "a602d0da9923072e",
   "outputs": [],
   "execution_count": 6
  },
  {
   "metadata": {
    "ExecuteTime": {
     "end_time": "2025-06-27T22:06:00.732233Z",
     "start_time": "2025-06-27T22:06:00.668292Z"
    }
   },
   "cell_type": "code",
   "source": [
    "#Unified Planning Object Locations\n",
    "\n",
    "Location = UserType('Location')\n",
    "Bricks = UserType('Bricks')\n",
    "brick_at = unified_planning.model.Fluent('brick_at', BoolType(), l=Location)\n",
    "\n"
   ],
   "id": "fa7a2036dcf6f706",
   "outputs": [],
   "execution_count": 7
  },
  {
   "metadata": {
    "ExecuteTime": {
     "end_time": "2025-06-27T22:06:07.075944Z",
     "start_time": "2025-06-27T22:06:07.071764Z"
    }
   },
   "cell_type": "code",
   "source": [
    "#Create Grid Squares\n",
    "locs = []\n",
    "for y in range(20):\n",
    "    for x in range(20):\n",
    "        loc = f'loc-{x},{y}'\n",
    "        locs.append(loc)\n",
    "locations = [unified_planning.model.Object(l,Location) for l in locs]\n"
   ],
   "id": "fac798d027a682c2",
   "outputs": [],
   "execution_count": 8
  },
  {
   "metadata": {
    "ExecuteTime": {
     "end_time": "2025-06-27T22:06:13.196019Z",
     "start_time": "2025-06-27T22:06:13.191923Z"
    }
   },
   "cell_type": "code",
   "source": [
    "#Create Brick Objects\n",
    "\n",
    "seperate_bricks = ['P1','P2','P3','P4','R1','R2','R3','G1','G2']\n",
    "\n",
    "bricks = [unified_planning.model.Object(b,Bricks) for b in seperate_bricks]\n",
    "\n",
    "\n"
   ],
   "id": "be77f8ef8924c56b",
   "outputs": [],
   "execution_count": 9
  },
  {
   "metadata": {
    "ExecuteTime": {
     "end_time": "2025-06-27T22:16:01.950881Z",
     "start_time": "2025-06-27T22:16:01.947454Z"
    }
   },
   "cell_type": "code",
   "source": [
    "#States\n",
    "\n",
    "brick_at = unified_planning.model.Fluent('brick_at', BoolType(), brick = Bricks, loc = Location)\n",
    "on = unified_planning.model.Fluent('on', BoolType(), base_brick = Bricks, stack_brick = Bricks)\n",
    "clear = unified_planning.model.Fluent('clear',BoolType(), brick = Bricks)\n",
    "\n"
   ],
   "id": "5496119a6303ddc2",
   "outputs": [],
   "execution_count": 28
  },
  {
   "metadata": {
    "ExecuteTime": {
     "end_time": "2025-06-27T23:16:17.627818Z",
     "start_time": "2025-06-27T23:16:17.625211Z"
    }
   },
   "cell_type": "code",
   "source": [
    "#Create Problem\n",
    "\n",
    "problem = unified_planning.model.Problem('LegoScatter')"
   ],
   "id": "bd6bf4dd8dcd28f2",
   "outputs": [],
   "execution_count": 65
  },
  {
   "metadata": {
    "ExecuteTime": {
     "end_time": "2025-06-27T23:16:17.771081Z",
     "start_time": "2025-06-27T23:16:17.767434Z"
    }
   },
   "cell_type": "code",
   "source": [
    "problem.add_fluent(brick_at, default_initial_value=False)\n",
    "problem.add_fluent(on, default_initial_value=False)\n",
    "problem.add_fluent(clear, default_initial_value=False)"
   ],
   "id": "55b2b54b97bda239",
   "outputs": [
    {
     "data": {
      "text/plain": [
       "bool clear[brick=Bricks]"
      ]
     },
     "execution_count": 66,
     "metadata": {},
     "output_type": "execute_result"
    }
   ],
   "execution_count": 66
  },
  {
   "metadata": {
    "ExecuteTime": {
     "end_time": "2025-06-27T23:16:17.927421Z",
     "start_time": "2025-06-27T23:16:17.922961Z"
    }
   },
   "cell_type": "code",
   "source": [
    "#Move from one grid location to another grid square\n",
    "\n",
    "move = unified_planning.model.InstantaneousAction('move',brick = Bricks, l_from=Location, l_to=Location)\n",
    "curr_brick = move.parameter('brick')\n",
    "l_from = move.parameter('l_from')\n",
    "l_to = move.parameter('l_to')\n",
    "move.add_precondition(brick_at(curr_brick, l_from))\n",
    "move.add_precondition(clear(curr_brick))\n",
    "move.add_effect(brick_at(curr_brick, l_from), False)\n",
    "move.add_effect(brick_at(curr_brick, l_to), True)\n",
    "problem.add_action(move)"
   ],
   "id": "e30d5c4ccf1c6ded",
   "outputs": [],
   "execution_count": 67
  },
  {
   "metadata": {
    "ExecuteTime": {
     "end_time": "2025-06-27T23:16:19.340667Z",
     "start_time": "2025-06-27T23:16:19.336214Z"
    }
   },
   "cell_type": "code",
   "source": [
    "#If two bricks are in the same location, stack one on top of the other\n",
    "\n",
    "move_on = unified_planning.model.InstantaneousAction('move_on',base_brick = Bricks, stack_brick = Bricks, l_curr=Location)\n",
    "base_brick = move_on.parameter('base_brick')\n",
    "l_curr = move_on.parameter('l_curr')\n",
    "stack_brick = move_on.parameter('stack_brick')\n",
    "move_on.add_precondition(brick_at(base_brick, l_curr))\n",
    "move_on.add_precondition(brick_at(stack_brick, l_curr))\n",
    "move_on.add_precondition(clear(base_brick))\n",
    "move_on.add_effect(on(stack_brick,base_brick ), True)\n",
    "move_on.add_effect(clear(base_brick),False)\n",
    "problem.add_action(move_on)"
   ],
   "id": "175e1736c65f10d1",
   "outputs": [],
   "execution_count": 68
  },
  {
   "metadata": {
    "ExecuteTime": {
     "end_time": "2025-06-27T23:16:19.529758Z",
     "start_time": "2025-06-27T23:16:19.524334Z"
    }
   },
   "cell_type": "code",
   "source": [
    "#Reversed - take a block off the top of the tower\n",
    "\n",
    "move_off = unified_planning.model.InstantaneousAction('move_off',base_brick = Bricks, stack_brick = Bricks, l_curr=Location)\n",
    "base_brick = move_off.parameter('base_brick')\n",
    "l_curr = move_off.parameter('l_curr')\n",
    "stack_brick = move_off.parameter('stack_brick')\n",
    "move_off.add_precondition(brick_at(base_brick, l_curr))\n",
    "move_off.add_precondition(brick_at(stack_brick, l_curr))\n",
    "move_off.add_precondition(on(stack_brick,base_brick))\n",
    "move_off.add_precondition(clear(stack_brick))\n",
    "move_off.add_effect(on(stack_brick,base_brick ), False)\n",
    "move_off.add_effect(clear(base_brick),True)\n",
    "problem.add_action(move_off)"
   ],
   "id": "184214f864f7cd48",
   "outputs": [],
   "execution_count": 69
  },
  {
   "metadata": {
    "ExecuteTime": {
     "end_time": "2025-06-27T23:16:19.698318Z",
     "start_time": "2025-06-27T23:16:19.694460Z"
    }
   },
   "cell_type": "code",
   "source": [
    "#Initialise Locations\n",
    "\n",
    "for i in range(len(bricks)):\n",
    "    loc = Object(f'loc-{final_locations[i+1][0]},{final_locations[i+1][1]}',Location)\n",
    "    # print(loc)\n",
    "    problem.set_initial_value(brick_at(bricks[i],loc),True)\n",
    "    problem.set_initial_value(clear(bricks[i]), True)"
   ],
   "id": "a1908167255650a5",
   "outputs": [],
   "execution_count": 70
  },
  {
   "metadata": {
    "ExecuteTime": {
     "end_time": "2025-06-27T23:16:19.868760Z",
     "start_time": "2025-06-27T23:16:19.865029Z"
    }
   },
   "cell_type": "code",
   "source": "print(problem)",
   "id": "7cfa81a666f11cc0",
   "outputs": [
    {
     "name": "stdout",
     "output_type": "stream",
     "text": [
      "problem name = LegoScatter\n",
      "\n",
      "types = [Bricks, Location]\n",
      "\n",
      "fluents = [\n",
      "  bool brick_at[brick=Bricks, loc=Location]\n",
      "  bool on[base_brick=Bricks, stack_brick=Bricks]\n",
      "  bool clear[brick=Bricks]\n",
      "]\n",
      "\n",
      "actions = [\n",
      "  action move(Bricks brick, Location l_from, Location l_to) {\n",
      "    preconditions = [\n",
      "      brick_at(brick, l_from)\n",
      "      clear(brick)\n",
      "    ]\n",
      "    effects = [\n",
      "      brick_at(brick, l_from) := false\n",
      "      brick_at(brick, l_to) := true\n",
      "    ]\n",
      "  }\n",
      "  action move_on(Bricks base_brick, Bricks stack_brick, Location l_curr) {\n",
      "    preconditions = [\n",
      "      brick_at(base_brick, l_curr)\n",
      "      brick_at(stack_brick, l_curr)\n",
      "      clear(base_brick)\n",
      "    ]\n",
      "    effects = [\n",
      "      on(stack_brick, base_brick) := true\n",
      "      clear(base_brick) := false\n",
      "    ]\n",
      "  }\n",
      "  action move_off(Bricks base_brick, Bricks stack_brick, Location l_curr) {\n",
      "    preconditions = [\n",
      "      brick_at(base_brick, l_curr)\n",
      "      brick_at(stack_brick, l_curr)\n",
      "      on(stack_brick, base_brick)\n",
      "      clear(stack_brick)\n",
      "    ]\n",
      "    effects = [\n",
      "      on(stack_brick, base_brick) := false\n",
      "      clear(base_brick) := true\n",
      "    ]\n",
      "  }\n",
      "]\n",
      "\n",
      "objects = [\n",
      "  Bricks: []\n",
      "  Location: []\n",
      "]\n",
      "\n",
      "initial fluents default = [\n",
      "  bool brick_at[brick=Bricks, loc=Location] := false\n",
      "  bool on[base_brick=Bricks, stack_brick=Bricks] := false\n",
      "  bool clear[brick=Bricks] := false\n",
      "]\n",
      "\n",
      "initial values = [\n",
      "  brick_at(P1, loc-4,18) := true\n",
      "  clear(P1) := true\n",
      "  brick_at(P2, loc-2,12) := true\n",
      "  clear(P2) := true\n",
      "  brick_at(P3, loc-8,14) := true\n",
      "  clear(P3) := true\n",
      "  brick_at(P4, loc-14,16) := true\n",
      "  clear(P4) := true\n",
      "  brick_at(R1, loc-16,10) := true\n",
      "  clear(R1) := true\n",
      "  brick_at(R2, loc-6,3) := true\n",
      "  clear(R2) := true\n",
      "  brick_at(R3, loc-17,2) := true\n",
      "  clear(R3) := true\n",
      "  brick_at(G1, loc-12,12) := true\n",
      "  clear(G1) := true\n",
      "  brick_at(G2, loc-10,6) := true\n",
      "  clear(G2) := true\n",
      "]\n",
      "\n",
      "goals = [\n",
      "]\n",
      "\n",
      "\n"
     ]
    }
   ],
   "execution_count": 71
  },
  {
   "metadata": {
    "ExecuteTime": {
     "end_time": "2025-06-27T23:16:20.023816Z",
     "start_time": "2025-06-27T23:16:20.019792Z"
    }
   },
   "cell_type": "code",
   "source": [
    "#Hardcoded Goals\n",
    "#Stack all corresponding colours\n",
    "problem.add_goal(on(Object(\"P1\",Bricks),Object(\"P2\",Bricks)))\n",
    "problem.add_goal(on(Object(\"P2\",Bricks),Object(\"P3\",Bricks)))\n",
    "problem.add_goal(on(Object(\"P3\",Bricks),Object(\"P4\",Bricks)))\n",
    "problem.add_goal(on(Object(\"R1\",Bricks),Object(\"R2\",Bricks)))\n",
    "problem.add_goal(on(Object(\"R2\",Bricks),Object(\"R3\",Bricks)))\n",
    "problem.add_goal(on(Object(\"G1\",Bricks),Object(\"G2\",Bricks)))"
   ],
   "id": "4829274ac28bcd56",
   "outputs": [],
   "execution_count": 72
  },
  {
   "metadata": {
    "ExecuteTime": {
     "end_time": "2025-06-27T23:16:21.929006Z",
     "start_time": "2025-06-27T23:16:21.925958Z"
    }
   },
   "cell_type": "code",
   "source": "print(problem)",
   "id": "b8a91f8636fb675a",
   "outputs": [
    {
     "name": "stdout",
     "output_type": "stream",
     "text": [
      "problem name = LegoScatter\n",
      "\n",
      "types = [Bricks, Location]\n",
      "\n",
      "fluents = [\n",
      "  bool brick_at[brick=Bricks, loc=Location]\n",
      "  bool on[base_brick=Bricks, stack_brick=Bricks]\n",
      "  bool clear[brick=Bricks]\n",
      "]\n",
      "\n",
      "actions = [\n",
      "  action move(Bricks brick, Location l_from, Location l_to) {\n",
      "    preconditions = [\n",
      "      brick_at(brick, l_from)\n",
      "      clear(brick)\n",
      "    ]\n",
      "    effects = [\n",
      "      brick_at(brick, l_from) := false\n",
      "      brick_at(brick, l_to) := true\n",
      "    ]\n",
      "  }\n",
      "  action move_on(Bricks base_brick, Bricks stack_brick, Location l_curr) {\n",
      "    preconditions = [\n",
      "      brick_at(base_brick, l_curr)\n",
      "      brick_at(stack_brick, l_curr)\n",
      "      clear(base_brick)\n",
      "    ]\n",
      "    effects = [\n",
      "      on(stack_brick, base_brick) := true\n",
      "      clear(base_brick) := false\n",
      "    ]\n",
      "  }\n",
      "  action move_off(Bricks base_brick, Bricks stack_brick, Location l_curr) {\n",
      "    preconditions = [\n",
      "      brick_at(base_brick, l_curr)\n",
      "      brick_at(stack_brick, l_curr)\n",
      "      on(stack_brick, base_brick)\n",
      "      clear(stack_brick)\n",
      "    ]\n",
      "    effects = [\n",
      "      on(stack_brick, base_brick) := false\n",
      "      clear(base_brick) := true\n",
      "    ]\n",
      "  }\n",
      "]\n",
      "\n",
      "objects = [\n",
      "  Bricks: []\n",
      "  Location: []\n",
      "]\n",
      "\n",
      "initial fluents default = [\n",
      "  bool brick_at[brick=Bricks, loc=Location] := false\n",
      "  bool on[base_brick=Bricks, stack_brick=Bricks] := false\n",
      "  bool clear[brick=Bricks] := false\n",
      "]\n",
      "\n",
      "initial values = [\n",
      "  brick_at(P1, loc-4,18) := true\n",
      "  clear(P1) := true\n",
      "  brick_at(P2, loc-2,12) := true\n",
      "  clear(P2) := true\n",
      "  brick_at(P3, loc-8,14) := true\n",
      "  clear(P3) := true\n",
      "  brick_at(P4, loc-14,16) := true\n",
      "  clear(P4) := true\n",
      "  brick_at(R1, loc-16,10) := true\n",
      "  clear(R1) := true\n",
      "  brick_at(R2, loc-6,3) := true\n",
      "  clear(R2) := true\n",
      "  brick_at(R3, loc-17,2) := true\n",
      "  clear(R3) := true\n",
      "  brick_at(G1, loc-12,12) := true\n",
      "  clear(G1) := true\n",
      "  brick_at(G2, loc-10,6) := true\n",
      "  clear(G2) := true\n",
      "]\n",
      "\n",
      "goals = [\n",
      "  on(P1, P2)\n",
      "  on(P2, P3)\n",
      "  on(P3, P4)\n",
      "  on(R1, R2)\n",
      "  on(R2, R3)\n",
      "  on(G1, G2)\n",
      "]\n",
      "\n",
      "\n"
     ]
    }
   ],
   "execution_count": 73
  },
  {
   "metadata": {
    "ExecuteTime": {
     "end_time": "2025-06-27T23:16:23.176582Z",
     "start_time": "2025-06-27T23:16:23.174093Z"
    }
   },
   "cell_type": "code",
   "source": "",
   "id": "e9c1e08c7b67f697",
   "outputs": [],
   "execution_count": null
  },
  {
   "metadata": {},
   "cell_type": "code",
   "outputs": [],
   "execution_count": null,
   "source": "",
   "id": "22460b93fbf4b853"
  }
 ],
 "metadata": {
  "kernelspec": {
   "display_name": "Python 3",
   "language": "python",
   "name": "python3"
  },
  "language_info": {
   "codemirror_mode": {
    "name": "ipython",
    "version": 2
   },
   "file_extension": ".py",
   "mimetype": "text/x-python",
   "name": "python",
   "nbconvert_exporter": "python",
   "pygments_lexer": "ipython2",
   "version": "2.7.6"
  }
 },
 "nbformat": 4,
 "nbformat_minor": 5
}
