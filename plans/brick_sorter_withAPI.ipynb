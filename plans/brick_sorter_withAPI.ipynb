{
 "cells": [
  {
   "cell_type": "code",
   "id": "initial_id",
   "metadata": {
    "collapsed": true,
    "ExecuteTime": {
     "end_time": "2025-07-28T13:17:33.437760Z",
     "start_time": "2025-07-28T13:17:33.433761Z"
    }
   },
   "source": [
    "import matplotlib.pyplot as plt\n",
    "import numpy as np\n",
    "import matplotlib.image as mpimg\n",
    "# import cv2\n",
    "from unified_planning.shortcuts import *\n",
    "import ast"
   ],
   "outputs": [],
   "execution_count": 59
  },
  {
   "metadata": {
    "ExecuteTime": {
     "end_time": "2025-07-28T13:46:40.680352Z",
     "start_time": "2025-07-28T13:46:40.678246Z"
    }
   },
   "cell_type": "code",
   "source": "",
   "id": "f1435cc5f65d1a1c",
   "outputs": [],
   "execution_count": null
  },
  {
   "metadata": {
    "ExecuteTime": {
     "end_time": "2025-07-28T13:17:34.146965Z",
     "start_time": "2025-07-28T13:17:34.141058Z"
    }
   },
   "cell_type": "code",
   "source": [
    "with open(\"../plans/bricks.txt\", \"r\") as file:\n",
    "    content = file.read()\n",
    "    # print(content)\n",
    "    fixed = content.replace('[[[', '[').replace('[[','[').replace(']]]',']').replace(']]',']')\n",
    "    # print(fixed)\n",
    "    fixed_array = ast.literal_eval(fixed)\n",
    "\n",
    "    brick_dictionary = {}\n",
    "    for array in fixed_array:\n",
    "        print(array)\n",
    "        brick_dictionary[array[1]] = [array[0], array[2], array[3], array[4]]"
   ],
   "id": "eb3f3a050a0fab93",
   "outputs": [
    {
     "name": "stdout",
     "output_type": "stream",
     "text": [
      "[0, '1', ' Brick', ' Brown', ' 2x4']\n",
      "[1, '2', ' Brick', ' Green', ' 2x4']\n",
      "[1, '3', ' Brick', ' Red', ' 2x2']\n",
      "[2, '1', ' Brick', ' Brown', ' 2x4']\n",
      "[2, '4', ' Brick', ' Tan', ' 2x2']\n",
      "[2, '5', ' Brick', ' White', ' 1x1']\n",
      "[3, '3', ' Brick', ' Red', ' 2x2']\n",
      "[3, '6', ' Plate', ' Transparent', ' 1x2']\n",
      "[3, '7', ' Plate', ' Transparent', ' 1x1']\n",
      "[3, '8', ' Plate', ' White', ' 1x1']\n",
      "[3, '9', ' Plate', ' White', ' 1x2']\n",
      "[4, '1', ' Brick', ' Brown', ' 2x4']\n",
      "[4, '10', ' Brick', ' White', ' 1x1']\n",
      "[4, '11', ' Plate', ' Transparent', ' 1x1']\n",
      "[4, '12', ' Plate', ' White', ' 1x2']\n",
      "[5, '3', ' Brick', ' Red', ' 2x2']\n",
      "[5, '10', ' Brick', ' White', ' 1x1']\n",
      "[5, '13', ' Plate', ' White', ' 1x1']\n",
      "[6, '3', ' Brick', ' Red', ' 2x2']\n",
      "[6, '14', ' Brick', ' White', ' 1x3']\n",
      "[7, '14', ' Brick', ' White', ' 1x3']\n",
      "[7, '15', ' Plate', ' White', ' 1x1']\n",
      "[8, '16', ' Brick', ' White', ' 1x1']\n",
      "[8, '17', ' Plate', ' Black', ' 1x1']\n",
      "[9, '1', ' Brick', ' Brown', ' 2x4']\n",
      "[9, '3', ' Brick', ' Red', ' 2x2']\n",
      "[9, '18', ' Brick', ' Red', ' 2x3']\n",
      "[10, '3', ' Brick', ' Red', ' 2x2']\n",
      "[10, '10', ' Brick', ' White', ' 1x1']\n",
      "[10, '19', ' Plate', ' White', ' 2x2']\n",
      "[11, '1', ' Brick', ' Brown', ' 2x4']\n",
      "[11, '6', ' Plate', ' Transparent', ' 1x2']\n",
      "[11, '20', ' Brick', ' Transparent', ' 1x1']\n",
      "[12, '3', ' Brick', ' Red', ' 2x2']\n",
      "[13, '4', ' Brick', ' Tan', ' 2x2']\n",
      "[13, '10', ' Brick', ' White', ' 1x1']\n",
      "[13, '13', ' Plate', ' White', ' 1x1']\n",
      "[13, '14', ' Brick', ' White', ' 1x3']\n",
      "[13, '15', ' Plate', ' White', ' 1x1']\n",
      "[14, '3', ' Brick', ' Red', ' 2x2']\n",
      "[14, '21', ' Brick', ' White', ' 1x2']\n",
      "[15, '3', ' Brick', ' Red', ' 2x2']\n",
      "[15, '18', ' Brick', ' Red', ' 2x3']\n",
      "[16, '4', ' Brick', ' Tan', ' 2x2']\n",
      "[16, '10', ' Brick', ' White', ' 1x1']\n",
      "[16, '13', ' Plate', ' White', ' 1x1']\n",
      "[16, '15', ' Plate', ' White', ' 1x1']\n",
      "[16, '22', ' Plate', ' Transparent', ' 1x2']\n",
      "[16, '23', ' Plate', ' Light Blue', ' 1x1']\n",
      "[17, '4', ' Brick', ' Tan', ' 2x2']\n",
      "[17, '10', ' Brick', ' White', ' 1x1']\n",
      "[17, '15', ' Plate', ' White', ' 1x1']\n",
      "[17, '17', ' Plate', ' Black', ' 1x1']\n",
      "[17, '24', ' Plate', ' Trans-Orange', ' 1x1']\n",
      "[18, '23', ' Plate', ' Light Blue', ' 1x1']\n",
      "[18, '25', ' Plate', ' Yellow', ' 1x1']\n",
      "[18, '26', ' Plate', ' Black', ' 1x1']\n",
      "[18, '27', ' Plate', ' Red', ' 1x1']\n",
      "[19, '6', ' Plate', ' Transparent', ' 1x2']\n",
      "[19, '11', ' Plate', ' Transparent', ' 1x1']\n",
      "[19, '20', ' Brick', ' Transparent', ' 1x1']\n",
      "[20, '17', ' Plate', ' Black', ' 1x1']\n",
      "[21, '21', ' Brick', ' White', ' 1x2']\n",
      "[21, '24', ' Plate', ' Trans-Orange', ' 1x1']\n",
      "[22, '17', ' Plate', ' Black', ' 1x1']\n",
      "[22, '22', ' Plate', ' Transparent', ' 1x2']\n",
      "[22, '23', ' Plate', ' Light Blue', ' 1x1']\n",
      "[22, '26', ' Plate', ' Black', ' 1x1']\n",
      "[22, '28', ' Plate', ' Light Pink', ' 1x1']\n",
      "[23, '13', ' Plate', ' White', ' 1x1']\n",
      "[23, '15', ' Plate', ' White', ' 1x1 ']\n",
      "[23, '26', ' Plate', ' Black', ' 1x1']\n",
      "[23, '28', ' Plate', ' Light Pink', ' 1x1']\n",
      "[24, '17', ' Plate', ' Black', ' 1x1']\n"
     ]
    }
   ],
   "execution_count": 61
  },
  {
   "metadata": {
    "ExecuteTime": {
     "end_time": "2025-07-28T13:17:34.610544Z",
     "start_time": "2025-07-28T13:17:34.607281Z"
    }
   },
   "cell_type": "code",
   "source": [
    "#Unified Planning Object Locations\n",
    "\n",
    "Location = UserType('Location')\n",
    "Bricks = UserType('Bricks')\n",
    "brick_at = unified_planning.model.Fluent('brick_at', BoolType(), l=Location)\n",
    "\n"
   ],
   "id": "fa7a2036dcf6f706",
   "outputs": [],
   "execution_count": 62
  },
  {
   "metadata": {
    "ExecuteTime": {
     "end_time": "2025-07-28T13:17:35.099737Z",
     "start_time": "2025-07-28T13:17:35.095292Z"
    }
   },
   "cell_type": "code",
   "source": [
    "#Create Grid Squares\n",
    "locs = []\n",
    "count = 0\n",
    "for y in range(5):\n",
    "    for x in range(5):\n",
    "        loc = f'loc-{count}'\n",
    "        locs.append(loc)\n",
    "        count+=1\n",
    "        print(loc)\n",
    "locations = [unified_planning.model.Object(l,Location) for l in locs]\n"
   ],
   "id": "fac798d027a682c2",
   "outputs": [
    {
     "name": "stdout",
     "output_type": "stream",
     "text": [
      "loc-0\n",
      "loc-1\n",
      "loc-2\n",
      "loc-3\n",
      "loc-4\n",
      "loc-5\n",
      "loc-6\n",
      "loc-7\n",
      "loc-8\n",
      "loc-9\n",
      "loc-10\n",
      "loc-11\n",
      "loc-12\n",
      "loc-13\n",
      "loc-14\n",
      "loc-15\n",
      "loc-16\n",
      "loc-17\n",
      "loc-18\n",
      "loc-19\n",
      "loc-20\n",
      "loc-21\n",
      "loc-22\n",
      "loc-23\n",
      "loc-24\n"
     ]
    }
   ],
   "execution_count": 63
  },
  {
   "metadata": {
    "ExecuteTime": {
     "end_time": "2025-07-28T13:20:20.228858Z",
     "start_time": "2025-07-28T13:20:20.226043Z"
    }
   },
   "cell_type": "code",
   "source": [
    "#Create Brick Objects\n",
    "\n",
    "seperate_bricks = brick_dictionary.keys()\n",
    "bricks = [unified_planning.model.Object(b,Bricks) for b in seperate_bricks]\n",
    "\n",
    "\n"
   ],
   "id": "be77f8ef8924c56b",
   "outputs": [],
   "execution_count": 77
  },
  {
   "metadata": {
    "ExecuteTime": {
     "end_time": "2025-07-28T13:17:36.060748Z",
     "start_time": "2025-07-28T13:17:36.056767Z"
    }
   },
   "cell_type": "code",
   "source": [
    "#States\n",
    "\n",
    "brick_at = unified_planning.model.Fluent('brick_at', BoolType(), brick = Bricks, loc = Location)\n",
    "on = unified_planning.model.Fluent('on', BoolType(), base_brick = Bricks, stack_brick = Bricks)\n",
    "clear = unified_planning.model.Fluent('clear',BoolType(), brick = Bricks)\n",
    "\n"
   ],
   "id": "5496119a6303ddc2",
   "outputs": [],
   "execution_count": 65
  },
  {
   "metadata": {
    "ExecuteTime": {
     "end_time": "2025-07-28T13:17:36.437192Z",
     "start_time": "2025-07-28T13:17:36.433733Z"
    }
   },
   "cell_type": "code",
   "source": [
    "#Create Problem\n",
    "\n",
    "problem = unified_planning.model.Problem('LegoScatter')"
   ],
   "id": "bd6bf4dd8dcd28f2",
   "outputs": [],
   "execution_count": 66
  },
  {
   "metadata": {
    "ExecuteTime": {
     "end_time": "2025-07-28T13:17:36.829583Z",
     "start_time": "2025-07-28T13:17:36.824604Z"
    }
   },
   "cell_type": "code",
   "source": [
    "problem.add_fluent(brick_at, default_initial_value=False)\n",
    "problem.add_fluent(on, default_initial_value=False)\n",
    "problem.add_fluent(clear, default_initial_value=False)"
   ],
   "id": "55b2b54b97bda239",
   "outputs": [
    {
     "data": {
      "text/plain": [
       "bool clear[brick=Bricks]"
      ]
     },
     "execution_count": 67,
     "metadata": {},
     "output_type": "execute_result"
    }
   ],
   "execution_count": 67
  },
  {
   "metadata": {
    "ExecuteTime": {
     "end_time": "2025-07-28T13:17:37.188221Z",
     "start_time": "2025-07-28T13:17:37.183718Z"
    }
   },
   "cell_type": "code",
   "source": [
    "#Move from one grid location to another grid square\n",
    "\n",
    "move = unified_planning.model.InstantaneousAction('move',brick = Bricks, l_from=Location, l_to=Location)\n",
    "curr_brick = move.parameter('brick')\n",
    "l_from = move.parameter('l_from')\n",
    "l_to = move.parameter('l_to')\n",
    "move.add_precondition(brick_at(curr_brick, l_from))\n",
    "move.add_precondition(clear(curr_brick))\n",
    "move.add_effect(brick_at(curr_brick, l_from), False)\n",
    "move.add_effect(brick_at(curr_brick, l_to), True)\n",
    "problem.add_action(move)"
   ],
   "id": "e30d5c4ccf1c6ded",
   "outputs": [],
   "execution_count": 68
  },
  {
   "metadata": {
    "ExecuteTime": {
     "end_time": "2025-07-28T13:17:37.218948Z",
     "start_time": "2025-07-28T13:17:37.214099Z"
    }
   },
   "cell_type": "code",
   "source": [
    "#If two bricks are in the same location, stack one on top of the other\n",
    "\n",
    "move_on = unified_planning.model.InstantaneousAction('move_on',base_brick = Bricks, stack_brick = Bricks, l_curr=Location)\n",
    "base_brick = move_on.parameter('base_brick')\n",
    "l_curr = move_on.parameter('l_curr')\n",
    "stack_brick = move_on.parameter('stack_brick')\n",
    "move_on.add_precondition(brick_at(base_brick, l_curr))\n",
    "move_on.add_precondition(brick_at(stack_brick, l_curr))\n",
    "move_on.add_precondition(clear(base_brick))\n",
    "move_on.add_effect(on(stack_brick,base_brick ), True)\n",
    "move_on.add_effect(clear(base_brick),False)\n",
    "problem.add_action(move_on)"
   ],
   "id": "175e1736c65f10d1",
   "outputs": [],
   "execution_count": 69
  },
  {
   "metadata": {
    "ExecuteTime": {
     "end_time": "2025-07-28T13:17:37.671253Z",
     "start_time": "2025-07-28T13:17:37.667207Z"
    }
   },
   "cell_type": "code",
   "source": [
    "#Reversed - take a block off the top of the tower\n",
    "\n",
    "move_off = unified_planning.model.InstantaneousAction('move_off',base_brick = Bricks, stack_brick = Bricks, l_curr=Location)\n",
    "base_brick = move_off.parameter('base_brick')\n",
    "l_curr = move_off.parameter('l_curr')\n",
    "stack_brick = move_off.parameter('stack_brick')\n",
    "move_off.add_precondition(brick_at(base_brick, l_curr))\n",
    "move_off.add_precondition(brick_at(stack_brick, l_curr))\n",
    "move_off.add_precondition(on(stack_brick,base_brick))\n",
    "move_off.add_precondition(clear(stack_brick))\n",
    "move_off.add_effect(on(stack_brick,base_brick ), False)\n",
    "move_off.add_effect(clear(base_brick),True)\n",
    "problem.add_action(move_off)"
   ],
   "id": "184214f864f7cd48",
   "outputs": [],
   "execution_count": 70
  },
  {
   "metadata": {
    "ExecuteTime": {
     "end_time": "2025-07-28T13:29:50.798003Z",
     "start_time": "2025-07-28T13:29:50.793103Z"
    }
   },
   "cell_type": "code",
   "source": [
    "#Initialise Locations\n",
    "\n",
    "#DICTIONARY TAKES FORM:\n",
    "\n",
    "# KEY IS THE UNIQUE IDENTIFIER\n",
    "# VALUE IS [LOCATION,TYPE,COLOUR,SIZE]\n",
    "\n",
    "count = 0\n",
    "for key, value in brick_dictionary.items():\n",
    "    # print(key,value)\n",
    "    loc = Object(f'loc-{value[0]}',Location)\n",
    "    # print(loc)\n",
    "    temp_brick = Object(key,Bricks)\n",
    "    problem.set_initial_value(brick_at(temp_brick,loc),True)\n",
    "    problem.set_initial_value(clear(temp_brick),True)\n",
    "\n",
    "\n",
    "# for i in range(len(bricks)):\n",
    "#     loc = Object(f'loc-{final_locations[i+1][0]},{final_locations[i+1][1]}',Location)\n",
    "#     print(loc)\n",
    "    # problem.set_initial_value(brick_at(bricks[i],loc),True)\n",
    "    # problem.set_initial_value(clear(bricks[i]), True)"
   ],
   "id": "a1908167255650a5",
   "outputs": [],
   "execution_count": 84
  },
  {
   "metadata": {
    "ExecuteTime": {
     "end_time": "2025-07-28T14:08:55.432618Z",
     "start_time": "2025-07-28T14:08:55.413613Z"
    }
   },
   "cell_type": "code",
   "source": [
    " #INITIALISING LEFT RIGHT BEHING ON ETC\n",
    "\n",
    "with open(\"ITEM_POSITIONS.txt\", \"r\") as file:\n",
    "    for line in file:\n",
    "        if not line.lstrip().startswith(\"[\"):\n",
    "            # print(line, end=\"\")  # Use end=\"\" to avoid double newlines\n",
    "            parts = line.strip().split()\n",
    "            b1, relationship, b2 = parts\n",
    "            if relationship == 'on':\n",
    "                base_brick = Object(b2,Bricks)\n",
    "                stack_brick = Object(b1,Bricks)\n",
    "                problem.set_initial_value(on(base_brick,stack_brick),True)\n",
    "                problem.set_initial_value(clear(base_brick),False)"
   ],
   "id": "8954b5f7a9339559",
   "outputs": [],
   "execution_count": 93
  },
  {
   "metadata": {
    "ExecuteTime": {
     "end_time": "2025-07-28T14:08:57.962920Z",
     "start_time": "2025-07-28T14:08:57.958960Z"
    }
   },
   "cell_type": "code",
   "source": " print(problem)",
   "id": "7cfa81a666f11cc0",
   "outputs": [
    {
     "name": "stdout",
     "output_type": "stream",
     "text": [
      "problem name = LegoScatter\n",
      "\n",
      "types = [Bricks, Location]\n",
      "\n",
      "fluents = [\n",
      "  bool brick_at[brick=Bricks, loc=Location]\n",
      "  bool on[base_brick=Bricks, stack_brick=Bricks]\n",
      "  bool clear[brick=Bricks]\n",
      "]\n",
      "\n",
      "actions = [\n",
      "  action move(Bricks brick, Location l_from, Location l_to) {\n",
      "    preconditions = [\n",
      "      brick_at(brick, l_from)\n",
      "      clear(brick)\n",
      "    ]\n",
      "    effects = [\n",
      "      brick_at(brick, l_from) := false\n",
      "      brick_at(brick, l_to) := true\n",
      "    ]\n",
      "  }\n",
      "  action move_on(Bricks base_brick, Bricks stack_brick, Location l_curr) {\n",
      "    preconditions = [\n",
      "      brick_at(base_brick, l_curr)\n",
      "      brick_at(stack_brick, l_curr)\n",
      "      clear(base_brick)\n",
      "    ]\n",
      "    effects = [\n",
      "      on(stack_brick, base_brick) := true\n",
      "      clear(base_brick) := false\n",
      "    ]\n",
      "  }\n",
      "  action move_off(Bricks base_brick, Bricks stack_brick, Location l_curr) {\n",
      "    preconditions = [\n",
      "      brick_at(base_brick, l_curr)\n",
      "      brick_at(stack_brick, l_curr)\n",
      "      on(stack_brick, base_brick)\n",
      "      clear(stack_brick)\n",
      "    ]\n",
      "    effects = [\n",
      "      on(stack_brick, base_brick) := false\n",
      "      clear(base_brick) := true\n",
      "    ]\n",
      "  }\n",
      "]\n",
      "\n",
      "objects = [\n",
      "  Bricks: []\n",
      "  Location: []\n",
      "]\n",
      "\n",
      "initial fluents default = [\n",
      "  bool brick_at[brick=Bricks, loc=Location] := false\n",
      "  bool on[base_brick=Bricks, stack_brick=Bricks] := false\n",
      "  bool clear[brick=Bricks] := false\n",
      "]\n",
      "\n",
      "initial values = [\n",
      "  brick_at(1, loc-11) := true\n",
      "  brick_at(2, loc-1) := true\n",
      "  brick_at(3, loc-15) := true\n",
      "  brick_at(4, loc-17) := true\n",
      "  brick_at(5, loc-2) := true\n",
      "  brick_at(6, loc-19) := true\n",
      "  brick_at(7, loc-3) := true\n",
      "  brick_at(8, loc-3) := true\n",
      "  brick_at(9, loc-3) := true\n",
      "  brick_at(10, loc-17) := true\n",
      "  brick_at(11, loc-19) := true\n",
      "  brick_at(12, loc-4) := true\n",
      "  brick_at(13, loc-23) := true\n",
      "  brick_at(14, loc-13) := true\n",
      "  brick_at(15, loc-23) := true\n",
      "  brick_at(16, loc-8) := true\n",
      "  brick_at(17, loc-24) := true\n",
      "  brick_at(18, loc-15) := true\n",
      "  brick_at(19, loc-10) := true\n",
      "  brick_at(20, loc-19) := true\n",
      "  brick_at(21, loc-21) := true\n",
      "  brick_at(22, loc-22) := true\n",
      "  brick_at(23, loc-22) := true\n",
      "  brick_at(24, loc-21) := true\n",
      "  brick_at(25, loc-18) := true\n",
      "  brick_at(26, loc-23) := true\n",
      "  brick_at(27, loc-18) := true\n",
      "  brick_at(28, loc-23) := true\n",
      "  clear(1) := true\n",
      "  clear(2) := true\n",
      "  clear(3) := true\n",
      "  clear(4) := true\n",
      "  clear(5) := false\n",
      "  clear(6) := true\n",
      "  clear(7) := false\n",
      "  clear(8) := true\n",
      "  clear(9) := true\n",
      "  clear(10) := false\n",
      "  clear(11) := true\n",
      "  clear(12) := true\n",
      "  clear(13) := true\n",
      "  clear(14) := false\n",
      "  clear(15) := true\n",
      "  clear(16) := true\n",
      "  clear(17) := true\n",
      "  clear(18) := false\n",
      "  clear(19) := true\n",
      "  clear(20) := true\n",
      "  clear(21) := false\n",
      "  clear(22) := true\n",
      "  clear(23) := true\n",
      "  clear(24) := true\n",
      "  clear(25) := true\n",
      "  clear(26) := true\n",
      "  clear(27) := true\n",
      "  clear(28) := true\n",
      "  on(5, 4) := true\n",
      "  on(7, 3) := true\n",
      "  on(10, 3) := true\n",
      "  on(14, 3) := true\n",
      "  on(18, 3) := true\n",
      "  on(21, 3) := true\n",
      "]\n",
      "\n",
      "goals = [\n",
      "]\n",
      "\n",
      "\n"
     ]
    }
   ],
   "execution_count": 94
  },
  {
   "metadata": {
    "ExecuteTime": {
     "end_time": "2025-07-28T14:26:31.964016Z",
     "start_time": "2025-07-28T14:26:31.959678Z"
    }
   },
   "cell_type": "code",
   "source": [
    "with open(\"goalstates.txt\", \"r\") as file:\n",
    "    for line in file:\n",
    "        parts = line.strip().split()\n",
    "        b1, relationship, b2 = parts\n",
    "        if relationship == 'on':\n",
    "            base_brick = Object(b1,Bricks)\n",
    "            stack_brick = Object(b2,Bricks)\n",
    "            problem.add_goal(on(base_brick,stack_brick))"
   ],
   "id": "cddfdce144da1a23",
   "outputs": [],
   "execution_count": 97
  },
  {
   "metadata": {
    "ExecuteTime": {
     "end_time": "2025-06-27T23:16:20.023816Z",
     "start_time": "2025-06-27T23:16:20.019792Z"
    }
   },
   "cell_type": "code",
   "source": [
    "# #Hardcoded Goals\n",
    "# Stack all corresponding colours\n",
    "# problem.add_goal(on(Object(\"P1\",Bricks),Object(\"P2\",Bricks)))\n",
    "# problem.add_goal(on(Object(\"P2\",Bricks),Object(\"P3\",Bricks)))\n",
    "# problem.add_goal(on(Object(\"P3\",Bricks),Object(\"P4\",Bricks)))\n",
    "# problem.add_goal(on(Object(\"R1\",Bricks),Object(\"R2\",Bricks)))\n",
    "# problem.add_goal(on(Object(\"R2\",Bricks),Object(\"R3\",Bricks)))\n",
    "# problem.add_goal(on(Object(\"G1\",Bricks),Object(\"G2\",Bricks)))"
   ],
   "id": "4829274ac28bcd56",
   "outputs": [],
   "execution_count": 72
  },
  {
   "metadata": {
    "ExecuteTime": {
     "end_time": "2025-07-28T14:26:35.750644Z",
     "start_time": "2025-07-28T14:26:35.746644Z"
    }
   },
   "cell_type": "code",
   "source": "print(problem)",
   "id": "b8a91f8636fb675a",
   "outputs": [
    {
     "name": "stdout",
     "output_type": "stream",
     "text": [
      "problem name = LegoScatter\n",
      "\n",
      "types = [Bricks, Location]\n",
      "\n",
      "fluents = [\n",
      "  bool brick_at[brick=Bricks, loc=Location]\n",
      "  bool on[base_brick=Bricks, stack_brick=Bricks]\n",
      "  bool clear[brick=Bricks]\n",
      "]\n",
      "\n",
      "actions = [\n",
      "  action move(Bricks brick, Location l_from, Location l_to) {\n",
      "    preconditions = [\n",
      "      brick_at(brick, l_from)\n",
      "      clear(brick)\n",
      "    ]\n",
      "    effects = [\n",
      "      brick_at(brick, l_from) := false\n",
      "      brick_at(brick, l_to) := true\n",
      "    ]\n",
      "  }\n",
      "  action move_on(Bricks base_brick, Bricks stack_brick, Location l_curr) {\n",
      "    preconditions = [\n",
      "      brick_at(base_brick, l_curr)\n",
      "      brick_at(stack_brick, l_curr)\n",
      "      clear(base_brick)\n",
      "    ]\n",
      "    effects = [\n",
      "      on(stack_brick, base_brick) := true\n",
      "      clear(base_brick) := false\n",
      "    ]\n",
      "  }\n",
      "  action move_off(Bricks base_brick, Bricks stack_brick, Location l_curr) {\n",
      "    preconditions = [\n",
      "      brick_at(base_brick, l_curr)\n",
      "      brick_at(stack_brick, l_curr)\n",
      "      on(stack_brick, base_brick)\n",
      "      clear(stack_brick)\n",
      "    ]\n",
      "    effects = [\n",
      "      on(stack_brick, base_brick) := false\n",
      "      clear(base_brick) := true\n",
      "    ]\n",
      "  }\n",
      "]\n",
      "\n",
      "objects = [\n",
      "  Bricks: []\n",
      "  Location: []\n",
      "]\n",
      "\n",
      "initial fluents default = [\n",
      "  bool brick_at[brick=Bricks, loc=Location] := false\n",
      "  bool on[base_brick=Bricks, stack_brick=Bricks] := false\n",
      "  bool clear[brick=Bricks] := false\n",
      "]\n",
      "\n",
      "initial values = [\n",
      "  brick_at(1, loc-11) := true\n",
      "  brick_at(2, loc-1) := true\n",
      "  brick_at(3, loc-15) := true\n",
      "  brick_at(4, loc-17) := true\n",
      "  brick_at(5, loc-2) := true\n",
      "  brick_at(6, loc-19) := true\n",
      "  brick_at(7, loc-3) := true\n",
      "  brick_at(8, loc-3) := true\n",
      "  brick_at(9, loc-3) := true\n",
      "  brick_at(10, loc-17) := true\n",
      "  brick_at(11, loc-19) := true\n",
      "  brick_at(12, loc-4) := true\n",
      "  brick_at(13, loc-23) := true\n",
      "  brick_at(14, loc-13) := true\n",
      "  brick_at(15, loc-23) := true\n",
      "  brick_at(16, loc-8) := true\n",
      "  brick_at(17, loc-24) := true\n",
      "  brick_at(18, loc-15) := true\n",
      "  brick_at(19, loc-10) := true\n",
      "  brick_at(20, loc-19) := true\n",
      "  brick_at(21, loc-21) := true\n",
      "  brick_at(22, loc-22) := true\n",
      "  brick_at(23, loc-22) := true\n",
      "  brick_at(24, loc-21) := true\n",
      "  brick_at(25, loc-18) := true\n",
      "  brick_at(26, loc-23) := true\n",
      "  brick_at(27, loc-18) := true\n",
      "  brick_at(28, loc-23) := true\n",
      "  clear(1) := true\n",
      "  clear(2) := true\n",
      "  clear(3) := true\n",
      "  clear(4) := true\n",
      "  clear(5) := false\n",
      "  clear(6) := true\n",
      "  clear(7) := false\n",
      "  clear(8) := true\n",
      "  clear(9) := true\n",
      "  clear(10) := false\n",
      "  clear(11) := true\n",
      "  clear(12) := true\n",
      "  clear(13) := true\n",
      "  clear(14) := false\n",
      "  clear(15) := true\n",
      "  clear(16) := true\n",
      "  clear(17) := true\n",
      "  clear(18) := false\n",
      "  clear(19) := true\n",
      "  clear(20) := true\n",
      "  clear(21) := false\n",
      "  clear(22) := true\n",
      "  clear(23) := true\n",
      "  clear(24) := true\n",
      "  clear(25) := true\n",
      "  clear(26) := true\n",
      "  clear(27) := true\n",
      "  clear(28) := true\n",
      "  on(5, 4) := true\n",
      "  on(7, 3) := true\n",
      "  on(10, 3) := true\n",
      "  on(14, 3) := true\n",
      "  on(18, 3) := true\n",
      "  on(21, 3) := true\n",
      "]\n",
      "\n",
      "goals = [\n",
      "  on(2, 1)\n",
      "  on(1, 4)\n",
      "  on(4, 9)\n",
      "  on(9, 11)\n",
      "  on(12, 3)\n",
      "  on(3, 5)\n",
      "  on(5, 6)\n",
      "  on(6, 10)\n",
      "  on(10, 14)\n",
      "  on(14, 15)\n",
      "  on(15, 18)\n",
      "  on(13, 4)\n",
      "  on(4, 16)\n",
      "  on(16, 17)\n",
      "  on(5, 10)\n",
      "  on(10, 16)\n",
      "  on(16, 17)\n",
      "  on(7, 14)\n",
      "  on(14, 21)\n",
      "  on(13, 8)\n",
      "  on(8, 15)\n",
      "  on(15, 23)\n",
      "  on(12, 9)\n",
      "  on(22, 6)\n",
      "  on(11, 7)\n",
      "  on(20, 17)\n",
      "  on(17, 22)\n",
      "  on(22, 24)\n",
      "  on(24, 26)\n",
      "]\n",
      "\n",
      "\n"
     ]
    }
   ],
   "execution_count": 98
  },
  {
   "metadata": {
    "ExecuteTime": {
     "end_time": "2025-06-27T23:16:23.176582Z",
     "start_time": "2025-06-27T23:16:23.174093Z"
    }
   },
   "cell_type": "code",
   "source": "",
   "id": "e9c1e08c7b67f697",
   "outputs": [],
   "execution_count": null
  },
  {
   "metadata": {},
   "cell_type": "code",
   "outputs": [],
   "execution_count": null,
   "source": "",
   "id": "22460b93fbf4b853"
  }
 ],
 "metadata": {
  "kernelspec": {
   "display_name": "Python 3",
   "language": "python",
   "name": "python3"
  },
  "language_info": {
   "codemirror_mode": {
    "name": "ipython",
    "version": 2
   },
   "file_extension": ".py",
   "mimetype": "text/x-python",
   "name": "python",
   "nbconvert_exporter": "python",
   "pygments_lexer": "ipython2",
   "version": "2.7.6"
  }
 },
 "nbformat": 4,
 "nbformat_minor": 5
}
