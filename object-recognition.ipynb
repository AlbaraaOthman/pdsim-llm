{
 "cells": [
  {
   "cell_type": "code",
   "id": "initial_id",
   "metadata": {
    "collapsed": true,
    "ExecuteTime": {
     "end_time": "2025-06-07T12:01:28.780307Z",
     "start_time": "2025-06-07T12:01:28.776422Z"
    }
   },
   "source": [
    "import requests\n",
    "import ollama\n",
    "import base64"
   ],
   "outputs": [],
   "execution_count": 22
  },
  {
   "metadata": {
    "ExecuteTime": {
     "end_time": "2025-06-07T12:04:07.526026Z",
     "start_time": "2025-06-07T12:04:07.522335Z"
    }
   },
   "cell_type": "code",
   "source": "PROMPT = \"You will receive an image input, you must give a unique identifier to each unique object you see. Each object must also have a three word label. You then must PDDL relationships for each object, the following relationships you assign. over(obj1,obj2) if objet one is over objecct two. touching(obj1,obj2) if object 1 is touching object2. left(obj1,obj2) if object 1 is to the left of object 2. behind(obj1,obj2) if object 1 is behing object 2. Structure your response as [Identifier,label,relationships.\"",
   "id": "3aecc0a1b83652d7",
   "outputs": [],
   "execution_count": 28
  },
  {
   "metadata": {
    "ExecuteTime": {
     "end_time": "2025-06-07T12:01:30.609863Z",
     "start_time": "2025-06-07T12:01:30.607369Z"
    }
   },
   "cell_type": "code",
   "source": [
    "def encode_image(root):\n",
    "    with open(root, \"rb\") as f:\n",
    "        return base64.b64encode(f.read()).decode(\"utf-8\")\n"
   ],
   "id": "6ac14633aa3316e1",
   "outputs": [],
   "execution_count": 23
  },
  {
   "metadata": {
    "ExecuteTime": {
     "end_time": "2025-06-07T12:01:32.109916Z",
     "start_time": "2025-06-07T12:01:32.105799Z"
    }
   },
   "cell_type": "code",
   "source": [
    "def analyse_image(root):\n",
    "    image_base64 = encode_image(root)\n",
    "\n",
    "    response = requests.post('http://localhost:11434/api/generate', json={\n",
    "        \"model\": 'llava',\n",
    "        \"prompt\": PROMPT,\n",
    "        \"images\": [image_base64],\n",
    "        \"stream\": False\n",
    "    })\n",
    "\n",
    "    result = response.json()\n",
    "    return result.get(\"response\", \"\")"
   ],
   "id": "a90d189576f10345",
   "outputs": [],
   "execution_count": 24
  },
  {
   "metadata": {
    "ExecuteTime": {
     "end_time": "2025-06-07T12:04:15.389492Z",
     "start_time": "2025-06-07T12:04:09.266783Z"
    }
   },
   "cell_type": "code",
   "source": "analyse_image(\"img.png\")",
   "id": "886f91a73cae913e",
   "outputs": [
    {
     "data": {
      "text/plain": [
       "' [Controller, \"Red Nintendo Switch controller\", [\"left\", \"below\"]],\\n[Phone, \"Smartphone with case and red lanyard\", [\"over\"]],\\n[Case, \"Red protective smartphone case\", [\"touching\"]],\\n[Laptop, \"Red laptop with keyboard\", [\"behind\"]],\\n[Table, \"Wooden table\", [\"touching\"]] '"
      ]
     },
     "execution_count": 29,
     "metadata": {},
     "output_type": "execute_result"
    }
   ],
   "execution_count": 29
  },
  {
   "metadata": {
    "ExecuteTime": {
     "end_time": "2025-06-07T11:57:41.657543Z",
     "start_time": "2025-06-07T11:57:34.643250Z"
    }
   },
   "cell_type": "code",
   "source": [
    "# Use the generate function for a one-off prompt\n",
    "result = ollama.generate(model='llava', prompt=PROMPT)\n",
    "print(result['response'])"
   ],
   "id": "713cfbef5f835321",
   "outputs": [
    {
     "name": "stdout",
     "output_type": "stream",
     "text": [
      " I understand the task. Please provide me with the image input. \n"
     ]
    }
   ],
   "execution_count": 14
  },
  {
   "metadata": {},
   "cell_type": "code",
   "outputs": [],
   "execution_count": null,
   "source": "",
   "id": "1833c496dec8aff7"
  }
 ],
 "metadata": {
  "kernelspec": {
   "display_name": "Python 3",
   "language": "python",
   "name": "python3"
  },
  "language_info": {
   "codemirror_mode": {
    "name": "ipython",
    "version": 2
   },
   "file_extension": ".py",
   "mimetype": "text/x-python",
   "name": "python",
   "nbconvert_exporter": "python",
   "pygments_lexer": "ipython2",
   "version": "2.7.6"
  }
 },
 "nbformat": 4,
 "nbformat_minor": 5
}
